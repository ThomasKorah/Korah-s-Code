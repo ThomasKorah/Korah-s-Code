{
  "nbformat": 4,
  "nbformat_minor": 0,
  "metadata": {
    "colab": {
      "provenance": [],
      "authorship_tag": "ABX9TyP9HwtDZryrftgzM1OmoRAQ",
      "include_colab_link": true
    },
    "kernelspec": {
      "name": "python3",
      "display_name": "Python 3"
    },
    "language_info": {
      "name": "python"
    }
  },
  "cells": [
    {
      "cell_type": "markdown",
      "metadata": {
        "id": "view-in-github",
        "colab_type": "text"
      },
      "source": [
        "<a href=\"https://colab.research.google.com/github/ThomasKorah/Korah-s-Code/blob/master/Batch_based_Kerala_Weather_Dashboard.ipynb\" target=\"_parent\"><img src=\"https://colab.research.google.com/assets/colab-badge.svg\" alt=\"Open In Colab\"/></a>"
      ]
    },
    {
      "cell_type": "code",
      "execution_count": 1,
      "metadata": {
        "id": "v_MecqwqJeEC"
      },
      "outputs": [],
      "source": [
        "import requests\n",
        "import pandas as pd\n",
        "from datetime import datetime"
      ]
    },
    {
      "cell_type": "code",
      "source": [
        "API_KEY=\"86c60a44cbd3a75e6536712fce867293\""
      ],
      "metadata": {
        "id": "vPNOZLYGKEAP"
      },
      "execution_count": 2,
      "outputs": []
    },
    {
      "cell_type": "code",
      "source": [
        "Districts=[\"Alappuzha\", \"Ernakulam\"]"
      ],
      "metadata": {
        "id": "OopdLcxsU3oA"
      },
      "execution_count": 3,
      "outputs": []
    },
    {
      "cell_type": "code",
      "source": [
        "DISTRICTS=[\"Alappuzha\", \"Ernakulam\", \"Idukki\", \"Kannur\", \"Kasaragod\", \"Kollam\", \"Kottayam\", \"Kozhikode\", \"Malappuram\", \"Palakkad\", \"Pathanamthitta\", \"Thiruvananthapuram\", \"Thrissur\", \"Wayanad\"]"
      ],
      "metadata": {
        "id": "wIjpaK89LVQt"
      },
      "execution_count": 4,
      "outputs": []
    },
    {
      "cell_type": "code",
      "source": [
        "data=[]"
      ],
      "metadata": {
        "id": "sLjBs5WCUD8K"
      },
      "execution_count": 6,
      "outputs": []
    },
    {
      "cell_type": "code",
      "source": [
        "def fetch_weather():\n",
        "  records=[]"
      ],
      "metadata": {
        "id": "JmiDL-dTQBmL"
      },
      "execution_count": null,
      "outputs": []
    },
    {
      "cell_type": "code",
      "source": [
        "for district in Districts:\n",
        "    url = f\"https://api.openweathermap.org/data/2.5/weather?q={district},IN&appid={API_KEY}&units=metric\"\n",
        "    r = requests.get(url).json()\n",
        "    data.append({\n",
        "        \"district\": district,\n",
        "        \"temp\": r['main']['temp'],\n",
        "        \"humidity\": r['main']['humidity'],\n",
        "        \"rain\": r.get('rain', {}).get('2h', 0),\n",
        "        \"timestamp\": datetime.now()\n",
        "    })\n",
        "\n",
        "df = pd.DataFrame(data)"
      ],
      "metadata": {
        "id": "-3yWid1GOvsU"
      },
      "execution_count": 12,
      "outputs": []
    },
    {
      "cell_type": "code",
      "source": [
        "print(df)"
      ],
      "metadata": {
        "colab": {
          "base_uri": "https://localhost:8080/"
        },
        "id": "ACq0KtuwTjF9",
        "outputId": "fca41bf4-b2b8-4026-828b-8bc2cc644140"
      },
      "execution_count": 8,
      "outputs": [
        {
          "output_type": "stream",
          "name": "stdout",
          "text": [
            "    district   temp  humidity  rain                  timestamp\n",
            "0  Alappuzha  27.51        79     0 2025-10-25 06:28:53.716961\n",
            "1  Ernakulam  27.74        78     0 2025-10-25 06:28:53.843127\n"
          ]
        }
      ]
    },
    {
      "cell_type": "code",
      "source": [],
      "metadata": {
        "id": "uTSvwlx9Tkz_"
      },
      "execution_count": null,
      "outputs": []
    }
  ]
}